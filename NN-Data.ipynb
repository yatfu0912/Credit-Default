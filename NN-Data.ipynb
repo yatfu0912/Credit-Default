{
 "cells": [
  {
   "cell_type": "markdown",
   "metadata": {},
   "source": [
    "This notebook provides you with the code to process the data and obtain the pytorch tensors for the neural network model."
   ]
  },
  {
   "cell_type": "markdown",
   "metadata": {},
   "source": [
    "## Data Processing\n",
    "The data is in the file \"UCI_Credit_Card.csv\".\n",
    "\n",
    "- This dataset contains information on default payments, demographic factors, credit data, history of payment, and bill statements of credit card clients in Taiwan from April 2005 to September 2005.\n",
    "\n",
    "- 30000 observations for the following 25 variables:\n",
    "  - `ID`: ID of each client\n",
    "  - `LIMIT_BAL`: Amount of given credit in NT dollars (includes individual and family/supplementary credit\n",
    "  - `SEX`: Gender (1=male, 2=female)\n",
    "  - `EDUCATION`: (1=graduate school, 2=university, 3=high school, 4=others, 5=unknown, 6=unknown)\n",
    "  - `MARRIAGE`: Marital status (1=married, 2=single, 3=others)\n",
    "  - `AGE`: Age in years\n",
    "  - `PAY_0`: Repayment status in September, 2005 (-1=pay duly, 1=payment delay for one month, 2=payment delay for two months, … 8=payment delay for eight months, 9=payment delay for nine months and above)\n",
    "  - `PAY_2`: Repayment status in August, 2005 (scale same as above)\n",
    "  - `PAY_3`: Repayment status in July, 2005 (scale same as above)\n",
    "  - `PAY_4`: Repayment status in June, 2005 (scale same as above)\n",
    "  - `PAY_5`: Repayment status in May, 2005 (scale same as above)\n",
    "  - `PAY_6`: Repayment status in April, 2005 (scale same as above)\n",
    "  - `BILL_AMT1`: Amount of bill statement in September, 2005 (NT dollar)\n",
    "  - `BILL_AMT2`: Amount of bill statement in August, 2005 (NT dollar)\n",
    "  - `BILL_AMT3`: Amount of bill statement in July, 2005 (NT dollar)\n",
    "  - `BILL_AMT4`: Amount of bill statement in June, 2005 (NT dollar)\n",
    "  - `BILL_AMT5`: Amount of bill statement in May, 2005 (NT dollar)\n",
    "  - `BILL_AMT6`: Amount of bill statement in April, 2005 (NT dollar)\n",
    "  - `PAY_AMT1`: Amount of previous payment in September, 2005 (NT dollar)\n",
    "  - `PAY_AMT2`: Amount of previous payment in August, 2005 (NT dollar)\n",
    "  - `PAY_AMT3`: Amount of previous payment in July, 2005 (NT dollar)\n",
    "  - `PAY_AMT4`: Amount of previous payment in June, 2005 (NT dollar)\n",
    "  - `PAY_AMT5`: Amount of previous payment in May, 2005 (NT dollar)\n",
    "  - `PAY_AMT6`: Amount of previous payment in April, 2005 (NT dollar)\n",
    "  - `default.payment.next.month`: Default payment (1=yes, 0=no)\n"
   ]
  },
  {
   "cell_type": "code",
   "execution_count": 17,
   "metadata": {
    "ExecuteTime": {
     "end_time": "2020-04-01T09:36:55.094317Z",
     "start_time": "2020-04-01T09:36:52.877228Z"
    }
   },
   "outputs": [],
   "source": [
    "import pandas as pd\n",
    "import numpy as np\n",
    "import matplotlib.pyplot as plt\n",
    "import torch\n",
    "import torch.utils.data as Data\n",
    "import torch.optim as optim\n",
    " \n",
    "# Jupyter command to automatically show figures from matplotlib\n",
    "%matplotlib inline "
   ]
  },
  {
   "cell_type": "markdown",
   "metadata": {},
   "source": [
    "### Import data\n",
    "We use pandas to read data in the Excel file into a ``DataFrame``."
   ]
  },
  {
   "cell_type": "code",
   "execution_count": 18,
   "metadata": {
    "ExecuteTime": {
     "end_time": "2020-04-01T09:36:55.859826Z",
     "start_time": "2020-04-01T09:36:55.108276Z"
    }
   },
   "outputs": [
    {
     "data": {
      "text/html": [
       "<div>\n",
       "<style scoped>\n",
       "    .dataframe tbody tr th:only-of-type {\n",
       "        vertical-align: middle;\n",
       "    }\n",
       "\n",
       "    .dataframe tbody tr th {\n",
       "        vertical-align: top;\n",
       "    }\n",
       "\n",
       "    .dataframe thead th {\n",
       "        text-align: right;\n",
       "    }\n",
       "</style>\n",
       "<table border=\"1\" class=\"dataframe\">\n",
       "  <thead>\n",
       "    <tr style=\"text-align: right;\">\n",
       "      <th></th>\n",
       "      <th>ID</th>\n",
       "      <th>LIMIT_BAL</th>\n",
       "      <th>SEX</th>\n",
       "      <th>EDUCATION</th>\n",
       "      <th>MARRIAGE</th>\n",
       "      <th>AGE</th>\n",
       "      <th>PAY_0</th>\n",
       "      <th>PAY_2</th>\n",
       "      <th>PAY_3</th>\n",
       "      <th>PAY_4</th>\n",
       "      <th>...</th>\n",
       "      <th>BILL_AMT4</th>\n",
       "      <th>BILL_AMT5</th>\n",
       "      <th>BILL_AMT6</th>\n",
       "      <th>PAY_AMT1</th>\n",
       "      <th>PAY_AMT2</th>\n",
       "      <th>PAY_AMT3</th>\n",
       "      <th>PAY_AMT4</th>\n",
       "      <th>PAY_AMT5</th>\n",
       "      <th>PAY_AMT6</th>\n",
       "      <th>default.payment.next.month</th>\n",
       "    </tr>\n",
       "  </thead>\n",
       "  <tbody>\n",
       "    <tr>\n",
       "      <th>0</th>\n",
       "      <td>1</td>\n",
       "      <td>20000.0</td>\n",
       "      <td>2</td>\n",
       "      <td>2</td>\n",
       "      <td>1</td>\n",
       "      <td>24</td>\n",
       "      <td>2</td>\n",
       "      <td>2</td>\n",
       "      <td>-1</td>\n",
       "      <td>-1</td>\n",
       "      <td>...</td>\n",
       "      <td>0.0</td>\n",
       "      <td>0.0</td>\n",
       "      <td>0.0</td>\n",
       "      <td>0.0</td>\n",
       "      <td>689.0</td>\n",
       "      <td>0.0</td>\n",
       "      <td>0.0</td>\n",
       "      <td>0.0</td>\n",
       "      <td>0.0</td>\n",
       "      <td>1</td>\n",
       "    </tr>\n",
       "    <tr>\n",
       "      <th>1</th>\n",
       "      <td>2</td>\n",
       "      <td>120000.0</td>\n",
       "      <td>2</td>\n",
       "      <td>2</td>\n",
       "      <td>2</td>\n",
       "      <td>26</td>\n",
       "      <td>-1</td>\n",
       "      <td>2</td>\n",
       "      <td>0</td>\n",
       "      <td>0</td>\n",
       "      <td>...</td>\n",
       "      <td>3272.0</td>\n",
       "      <td>3455.0</td>\n",
       "      <td>3261.0</td>\n",
       "      <td>0.0</td>\n",
       "      <td>1000.0</td>\n",
       "      <td>1000.0</td>\n",
       "      <td>1000.0</td>\n",
       "      <td>0.0</td>\n",
       "      <td>2000.0</td>\n",
       "      <td>1</td>\n",
       "    </tr>\n",
       "    <tr>\n",
       "      <th>2</th>\n",
       "      <td>3</td>\n",
       "      <td>90000.0</td>\n",
       "      <td>2</td>\n",
       "      <td>2</td>\n",
       "      <td>2</td>\n",
       "      <td>34</td>\n",
       "      <td>0</td>\n",
       "      <td>0</td>\n",
       "      <td>0</td>\n",
       "      <td>0</td>\n",
       "      <td>...</td>\n",
       "      <td>14331.0</td>\n",
       "      <td>14948.0</td>\n",
       "      <td>15549.0</td>\n",
       "      <td>1518.0</td>\n",
       "      <td>1500.0</td>\n",
       "      <td>1000.0</td>\n",
       "      <td>1000.0</td>\n",
       "      <td>1000.0</td>\n",
       "      <td>5000.0</td>\n",
       "      <td>0</td>\n",
       "    </tr>\n",
       "  </tbody>\n",
       "</table>\n",
       "<p>3 rows × 25 columns</p>\n",
       "</div>"
      ],
      "text/plain": [
       "   ID  LIMIT_BAL  SEX  EDUCATION  MARRIAGE  AGE  PAY_0  PAY_2  PAY_3  PAY_4  \\\n",
       "0   1    20000.0    2          2         1   24      2      2     -1     -1   \n",
       "1   2   120000.0    2          2         2   26     -1      2      0      0   \n",
       "2   3    90000.0    2          2         2   34      0      0      0      0   \n",
       "\n",
       "   ...  BILL_AMT4  BILL_AMT5  BILL_AMT6  PAY_AMT1  PAY_AMT2  PAY_AMT3  \\\n",
       "0  ...        0.0        0.0        0.0       0.0     689.0       0.0   \n",
       "1  ...     3272.0     3455.0     3261.0       0.0    1000.0    1000.0   \n",
       "2  ...    14331.0    14948.0    15549.0    1518.0    1500.0    1000.0   \n",
       "\n",
       "   PAY_AMT4  PAY_AMT5  PAY_AMT6  default.payment.next.month  \n",
       "0       0.0       0.0       0.0                           1  \n",
       "1    1000.0       0.0    2000.0                           1  \n",
       "2    1000.0    1000.0    5000.0                           0  \n",
       "\n",
       "[3 rows x 25 columns]"
      ]
     },
     "execution_count": 18,
     "metadata": {},
     "output_type": "execute_result"
    }
   ],
   "source": [
    "df = pd.read_csv('UCI_Credit_Card.csv')\n",
    "df.head(3)"
   ]
  },
  {
   "cell_type": "markdown",
   "metadata": {},
   "source": [
    "We delete the \"ID\" feature and shuffle the data using `sample` method."
   ]
  },
  {
   "cell_type": "code",
   "execution_count": 19,
   "metadata": {},
   "outputs": [
    {
     "data": {
      "text/html": [
       "<div>\n",
       "<style scoped>\n",
       "    .dataframe tbody tr th:only-of-type {\n",
       "        vertical-align: middle;\n",
       "    }\n",
       "\n",
       "    .dataframe tbody tr th {\n",
       "        vertical-align: top;\n",
       "    }\n",
       "\n",
       "    .dataframe thead th {\n",
       "        text-align: right;\n",
       "    }\n",
       "</style>\n",
       "<table border=\"1\" class=\"dataframe\">\n",
       "  <thead>\n",
       "    <tr style=\"text-align: right;\">\n",
       "      <th></th>\n",
       "      <th>LIMIT_BAL</th>\n",
       "      <th>SEX</th>\n",
       "      <th>EDUCATION</th>\n",
       "      <th>MARRIAGE</th>\n",
       "      <th>AGE</th>\n",
       "      <th>PAY_0</th>\n",
       "      <th>PAY_2</th>\n",
       "      <th>PAY_3</th>\n",
       "      <th>PAY_4</th>\n",
       "      <th>PAY_5</th>\n",
       "      <th>...</th>\n",
       "      <th>BILL_AMT4</th>\n",
       "      <th>BILL_AMT5</th>\n",
       "      <th>BILL_AMT6</th>\n",
       "      <th>PAY_AMT1</th>\n",
       "      <th>PAY_AMT2</th>\n",
       "      <th>PAY_AMT3</th>\n",
       "      <th>PAY_AMT4</th>\n",
       "      <th>PAY_AMT5</th>\n",
       "      <th>PAY_AMT6</th>\n",
       "      <th>default.payment.next.month</th>\n",
       "    </tr>\n",
       "  </thead>\n",
       "  <tbody>\n",
       "    <tr>\n",
       "      <th>25722</th>\n",
       "      <td>210000.0</td>\n",
       "      <td>2</td>\n",
       "      <td>2</td>\n",
       "      <td>1</td>\n",
       "      <td>30</td>\n",
       "      <td>0</td>\n",
       "      <td>0</td>\n",
       "      <td>0</td>\n",
       "      <td>0</td>\n",
       "      <td>0</td>\n",
       "      <td>...</td>\n",
       "      <td>140518.0</td>\n",
       "      <td>70901.0</td>\n",
       "      <td>72539.0</td>\n",
       "      <td>5404.0</td>\n",
       "      <td>6230.0</td>\n",
       "      <td>5696.0</td>\n",
       "      <td>2328.0</td>\n",
       "      <td>2567.0</td>\n",
       "      <td>2531.0</td>\n",
       "      <td>0</td>\n",
       "    </tr>\n",
       "    <tr>\n",
       "      <th>14084</th>\n",
       "      <td>200000.0</td>\n",
       "      <td>2</td>\n",
       "      <td>2</td>\n",
       "      <td>2</td>\n",
       "      <td>36</td>\n",
       "      <td>2</td>\n",
       "      <td>2</td>\n",
       "      <td>2</td>\n",
       "      <td>2</td>\n",
       "      <td>2</td>\n",
       "      <td>...</td>\n",
       "      <td>79781.0</td>\n",
       "      <td>81533.0</td>\n",
       "      <td>80243.0</td>\n",
       "      <td>4000.0</td>\n",
       "      <td>0.0</td>\n",
       "      <td>5500.0</td>\n",
       "      <td>3000.0</td>\n",
       "      <td>0.0</td>\n",
       "      <td>6100.0</td>\n",
       "      <td>1</td>\n",
       "    </tr>\n",
       "    <tr>\n",
       "      <th>17632</th>\n",
       "      <td>60000.0</td>\n",
       "      <td>2</td>\n",
       "      <td>2</td>\n",
       "      <td>2</td>\n",
       "      <td>30</td>\n",
       "      <td>0</td>\n",
       "      <td>0</td>\n",
       "      <td>0</td>\n",
       "      <td>0</td>\n",
       "      <td>0</td>\n",
       "      <td>...</td>\n",
       "      <td>12469.0</td>\n",
       "      <td>6060.0</td>\n",
       "      <td>5382.0</td>\n",
       "      <td>3160.0</td>\n",
       "      <td>2604.0</td>\n",
       "      <td>2160.0</td>\n",
       "      <td>4060.0</td>\n",
       "      <td>3382.0</td>\n",
       "      <td>3751.0</td>\n",
       "      <td>0</td>\n",
       "    </tr>\n",
       "  </tbody>\n",
       "</table>\n",
       "<p>3 rows × 24 columns</p>\n",
       "</div>"
      ],
      "text/plain": [
       "       LIMIT_BAL  SEX  EDUCATION  MARRIAGE  AGE  PAY_0  PAY_2  PAY_3  PAY_4  \\\n",
       "25722   210000.0    2          2         1   30      0      0      0      0   \n",
       "14084   200000.0    2          2         2   36      2      2      2      2   \n",
       "17632    60000.0    2          2         2   30      0      0      0      0   \n",
       "\n",
       "       PAY_5  ...  BILL_AMT4  BILL_AMT5  BILL_AMT6  PAY_AMT1  PAY_AMT2  \\\n",
       "25722      0  ...   140518.0    70901.0    72539.0    5404.0    6230.0   \n",
       "14084      2  ...    79781.0    81533.0    80243.0    4000.0       0.0   \n",
       "17632      0  ...    12469.0     6060.0     5382.0    3160.0    2604.0   \n",
       "\n",
       "       PAY_AMT3  PAY_AMT4  PAY_AMT5  PAY_AMT6  default.payment.next.month  \n",
       "25722    5696.0    2328.0    2567.0    2531.0                           0  \n",
       "14084    5500.0    3000.0       0.0    6100.0                           1  \n",
       "17632    2160.0    4060.0    3382.0    3751.0                           0  \n",
       "\n",
       "[3 rows x 24 columns]"
      ]
     },
     "execution_count": 19,
     "metadata": {},
     "output_type": "execute_result"
    }
   ],
   "source": [
    "df = df.drop([\"ID\"], axis=1)\n",
    "df = df.sample(frac=1)\n",
    "df.head(3)"
   ]
  },
  {
   "cell_type": "markdown",
   "metadata": {},
   "source": [
    "There are 6636 (28.4%) \"yes\" data and 23364 (71.6%) \"no\" data in the dataset. "
   ]
  },
  {
   "cell_type": "code",
   "execution_count": 20,
   "metadata": {
    "ExecuteTime": {
     "end_time": "2020-04-01T09:36:56.164284Z",
     "start_time": "2020-04-01T09:36:56.141314Z"
    }
   },
   "outputs": [
    {
     "name": "stdout",
     "output_type": "stream",
     "text": [
      "Yes data: 6636\n",
      "No data: 23364\n"
     ]
    }
   ],
   "source": [
    "print(\"Yes data:\", sum(df[\"default.payment.next.month\"] == 1))\n",
    "print(\"No data:\", sum(df[\"default.payment.next.month\"] == 0))"
   ]
  },
  {
   "cell_type": "markdown",
   "metadata": {},
   "source": [
    "#### Data Standardization\n",
    "We can see some feature values are quite large, which is not good for training a neural network, so we standardize them \n",
    "to make their mean equal to 0 and variance equal to 1."
   ]
  },
  {
   "cell_type": "code",
   "execution_count": 21,
   "metadata": {
    "ExecuteTime": {
     "end_time": "2020-03-21T09:30:25.350108Z",
     "start_time": "2020-03-21T09:30:25.334109Z"
    }
   },
   "outputs": [],
   "source": [
    "columns_to_standardize = [\"LIMIT_BAL\", \"AGE\", \n",
    "                          \"BILL_AMT1\", \"BILL_AMT2\", \"BILL_AMT3\", \"BILL_AMT4\", \"BILL_AMT5\", \"BILL_AMT6\", \n",
    "                          \"PAY_AMT1\", \"PAY_AMT2\", \"PAY_AMT3\", \"PAY_AMT4\", \"PAY_AMT5\", \"PAY_AMT6\",\n",
    "                          \"PAY_0\", \"PAY_2\", \"PAY_3\", \"PAY_4\", \"PAY_5\", \"PAY_6\"]\n",
    "\n",
    "df[columns_to_standardize] = (df[columns_to_standardize] - np.mean(df[columns_to_standardize], 0)) / np.std(df[columns_to_standardize], 0)   \n",
    "# the second argument in np.mean and np.std is axis. Setting axis=0 (1) means doing the calculation along columns (rows)."
   ]
  },
  {
   "cell_type": "code",
   "execution_count": 22,
   "metadata": {},
   "outputs": [
    {
     "data": {
      "text/html": [
       "<div>\n",
       "<style scoped>\n",
       "    .dataframe tbody tr th:only-of-type {\n",
       "        vertical-align: middle;\n",
       "    }\n",
       "\n",
       "    .dataframe tbody tr th {\n",
       "        vertical-align: top;\n",
       "    }\n",
       "\n",
       "    .dataframe thead th {\n",
       "        text-align: right;\n",
       "    }\n",
       "</style>\n",
       "<table border=\"1\" class=\"dataframe\">\n",
       "  <thead>\n",
       "    <tr style=\"text-align: right;\">\n",
       "      <th></th>\n",
       "      <th>LIMIT_BAL</th>\n",
       "      <th>SEX</th>\n",
       "      <th>EDUCATION</th>\n",
       "      <th>MARRIAGE</th>\n",
       "      <th>AGE</th>\n",
       "      <th>PAY_0</th>\n",
       "      <th>PAY_2</th>\n",
       "      <th>PAY_3</th>\n",
       "      <th>PAY_4</th>\n",
       "      <th>PAY_5</th>\n",
       "      <th>...</th>\n",
       "      <th>BILL_AMT4</th>\n",
       "      <th>BILL_AMT5</th>\n",
       "      <th>BILL_AMT6</th>\n",
       "      <th>PAY_AMT1</th>\n",
       "      <th>PAY_AMT2</th>\n",
       "      <th>PAY_AMT3</th>\n",
       "      <th>PAY_AMT4</th>\n",
       "      <th>PAY_AMT5</th>\n",
       "      <th>PAY_AMT6</th>\n",
       "      <th>default.payment.next.month</th>\n",
       "    </tr>\n",
       "  </thead>\n",
       "  <tbody>\n",
       "    <tr>\n",
       "      <th>25722</th>\n",
       "      <td>0.327685</td>\n",
       "      <td>2</td>\n",
       "      <td>2</td>\n",
       "      <td>1</td>\n",
       "      <td>-0.595102</td>\n",
       "      <td>0.014861</td>\n",
       "      <td>0.111736</td>\n",
       "      <td>0.138865</td>\n",
       "      <td>0.188746</td>\n",
       "      <td>0.234917</td>\n",
       "      <td>...</td>\n",
       "      <td>1.511773</td>\n",
       "      <td>0.503150</td>\n",
       "      <td>0.565331</td>\n",
       "      <td>-0.015672</td>\n",
       "      <td>0.013404</td>\n",
       "      <td>0.026713</td>\n",
       "      <td>-0.159460</td>\n",
       "      <td>-0.146117</td>\n",
       "      <td>-0.151008</td>\n",
       "      <td>0</td>\n",
       "    </tr>\n",
       "    <tr>\n",
       "      <th>14084</th>\n",
       "      <td>0.250611</td>\n",
       "      <td>2</td>\n",
       "      <td>2</td>\n",
       "      <td>2</td>\n",
       "      <td>0.055816</td>\n",
       "      <td>1.794564</td>\n",
       "      <td>1.782348</td>\n",
       "      <td>1.809921</td>\n",
       "      <td>1.899436</td>\n",
       "      <td>1.999879</td>\n",
       "      <td>...</td>\n",
       "      <td>0.567652</td>\n",
       "      <td>0.678030</td>\n",
       "      <td>0.694695</td>\n",
       "      <td>-0.100440</td>\n",
       "      <td>-0.256990</td>\n",
       "      <td>0.015580</td>\n",
       "      <td>-0.116564</td>\n",
       "      <td>-0.314136</td>\n",
       "      <td>0.049755</td>\n",
       "      <td>1</td>\n",
       "    </tr>\n",
       "    <tr>\n",
       "      <th>17632</th>\n",
       "      <td>-0.828424</td>\n",
       "      <td>2</td>\n",
       "      <td>2</td>\n",
       "      <td>2</td>\n",
       "      <td>-0.595102</td>\n",
       "      <td>0.014861</td>\n",
       "      <td>0.111736</td>\n",
       "      <td>0.138865</td>\n",
       "      <td>0.188746</td>\n",
       "      <td>0.234917</td>\n",
       "      <td>...</td>\n",
       "      <td>-0.478674</td>\n",
       "      <td>-0.563381</td>\n",
       "      <td>-0.562351</td>\n",
       "      <td>-0.151155</td>\n",
       "      <td>-0.143971</td>\n",
       "      <td>-0.174120</td>\n",
       "      <td>-0.048901</td>\n",
       "      <td>-0.092773</td>\n",
       "      <td>-0.082381</td>\n",
       "      <td>0</td>\n",
       "    </tr>\n",
       "    <tr>\n",
       "      <th>26255</th>\n",
       "      <td>-0.828424</td>\n",
       "      <td>2</td>\n",
       "      <td>2</td>\n",
       "      <td>1</td>\n",
       "      <td>-0.703588</td>\n",
       "      <td>0.014861</td>\n",
       "      <td>0.111736</td>\n",
       "      <td>0.138865</td>\n",
       "      <td>0.188746</td>\n",
       "      <td>0.234917</td>\n",
       "      <td>...</td>\n",
       "      <td>0.120672</td>\n",
       "      <td>-0.264793</td>\n",
       "      <td>-0.563812</td>\n",
       "      <td>-0.209840</td>\n",
       "      <td>-0.157816</td>\n",
       "      <td>-0.215639</td>\n",
       "      <td>-0.297275</td>\n",
       "      <td>-0.286253</td>\n",
       "      <td>1.357612</td>\n",
       "      <td>0</td>\n",
       "    </tr>\n",
       "    <tr>\n",
       "      <th>29291</th>\n",
       "      <td>0.096463</td>\n",
       "      <td>1</td>\n",
       "      <td>1</td>\n",
       "      <td>2</td>\n",
       "      <td>-0.920561</td>\n",
       "      <td>0.014861</td>\n",
       "      <td>0.111736</td>\n",
       "      <td>0.138865</td>\n",
       "      <td>0.188746</td>\n",
       "      <td>-0.647565</td>\n",
       "      <td>...</td>\n",
       "      <td>-0.182133</td>\n",
       "      <td>1.659276</td>\n",
       "      <td>1.679312</td>\n",
       "      <td>2.073079</td>\n",
       "      <td>1.348879</td>\n",
       "      <td>-0.111076</td>\n",
       "      <td>12.138654</td>\n",
       "      <td>0.062417</td>\n",
       "      <td>-0.012122</td>\n",
       "      <td>0</td>\n",
       "    </tr>\n",
       "  </tbody>\n",
       "</table>\n",
       "<p>5 rows × 24 columns</p>\n",
       "</div>"
      ],
      "text/plain": [
       "       LIMIT_BAL  SEX  EDUCATION  MARRIAGE       AGE     PAY_0     PAY_2  \\\n",
       "25722   0.327685    2          2         1 -0.595102  0.014861  0.111736   \n",
       "14084   0.250611    2          2         2  0.055816  1.794564  1.782348   \n",
       "17632  -0.828424    2          2         2 -0.595102  0.014861  0.111736   \n",
       "26255  -0.828424    2          2         1 -0.703588  0.014861  0.111736   \n",
       "29291   0.096463    1          1         2 -0.920561  0.014861  0.111736   \n",
       "\n",
       "          PAY_3     PAY_4     PAY_5  ...  BILL_AMT4  BILL_AMT5  BILL_AMT6  \\\n",
       "25722  0.138865  0.188746  0.234917  ...   1.511773   0.503150   0.565331   \n",
       "14084  1.809921  1.899436  1.999879  ...   0.567652   0.678030   0.694695   \n",
       "17632  0.138865  0.188746  0.234917  ...  -0.478674  -0.563381  -0.562351   \n",
       "26255  0.138865  0.188746  0.234917  ...   0.120672  -0.264793  -0.563812   \n",
       "29291  0.138865  0.188746 -0.647565  ...  -0.182133   1.659276   1.679312   \n",
       "\n",
       "       PAY_AMT1  PAY_AMT2  PAY_AMT3   PAY_AMT4  PAY_AMT5  PAY_AMT6  \\\n",
       "25722 -0.015672  0.013404  0.026713  -0.159460 -0.146117 -0.151008   \n",
       "14084 -0.100440 -0.256990  0.015580  -0.116564 -0.314136  0.049755   \n",
       "17632 -0.151155 -0.143971 -0.174120  -0.048901 -0.092773 -0.082381   \n",
       "26255 -0.209840 -0.157816 -0.215639  -0.297275 -0.286253  1.357612   \n",
       "29291  2.073079  1.348879 -0.111076  12.138654  0.062417 -0.012122   \n",
       "\n",
       "       default.payment.next.month  \n",
       "25722                           0  \n",
       "14084                           1  \n",
       "17632                           0  \n",
       "26255                           0  \n",
       "29291                           0  \n",
       "\n",
       "[5 rows x 24 columns]"
      ]
     },
     "execution_count": 22,
     "metadata": {},
     "output_type": "execute_result"
    }
   ],
   "source": [
    "df.head(5)"
   ]
  },
  {
   "cell_type": "markdown",
   "metadata": {},
   "source": [
    "#### One-hot Transform\n",
    "\n",
    "We need to transform some categorical features to one-hot vectors."
   ]
  },
  {
   "cell_type": "code",
   "execution_count": 23,
   "metadata": {},
   "outputs": [
    {
     "name": "stdout",
     "output_type": "stream",
     "text": [
      "SEX torch.Size([30000, 2])\n",
      "EDUCATION torch.Size([30000, 7])\n",
      "MARRIAGE torch.Size([30000, 4])\n"
     ]
    }
   ],
   "source": [
    "columns_to_one_hot = [\"SEX\", \"EDUCATION\", \"MARRIAGE\"]\n",
    "one_hot_vectors = []\n",
    "for column in columns_to_one_hot:\n",
    "    column_tensor = torch.tensor(df[column].values)\n",
    "    min_value = column_tensor.min()\n",
    "    tensor_to_one_hot = column_tensor - min_value\n",
    "    # print(tensor_to_one_hot.min(), tensor_to_one_hot.max())\n",
    "    one_hot = torch.nn.functional.one_hot(tensor_to_one_hot)\n",
    "    print(column, one_hot.shape)\n",
    "    one_hot_vectors.append(one_hot)"
   ]
  },
  {
   "cell_type": "markdown",
   "metadata": {},
   "source": [
    "We combine all the one-hot vectors together."
   ]
  },
  {
   "cell_type": "code",
   "execution_count": 24,
   "metadata": {},
   "outputs": [
    {
     "name": "stdout",
     "output_type": "stream",
     "text": [
      "torch.Size([30000, 13])\n"
     ]
    }
   ],
   "source": [
    "one_hot_features = torch.cat(one_hot_vectors, axis=1)\n",
    "print(one_hot_features.shape)"
   ]
  },
  {
   "cell_type": "markdown",
   "metadata": {},
   "source": [
    "We combine all the features and the label together."
   ]
  },
  {
   "cell_type": "code",
   "execution_count": 30,
   "metadata": {},
   "outputs": [],
   "source": [
    "data = torch.cat([torch.tensor(df[columns_to_standardize].values),\n",
    "                  one_hot_features,\n",
    "                  torch.tensor(df[[\"default.payment.next.month\"]].values)], axis=1)\n",
    "feature_num = data.shape[-1] - 1  \n",
    "# data.shape[-1] shows the number of columns in data. The number of features is the number of columns minus one as we need to exclude the default variable. "
   ]
  },
  {
   "cell_type": "markdown",
   "metadata": {},
   "source": [
    "#### Data Loader"
   ]
  },
  {
   "cell_type": "code",
   "execution_count": 26,
   "metadata": {
    "ExecuteTime": {
     "end_time": "2020-03-21T09:30:25.920219Z",
     "start_time": "2020-03-21T09:30:25.899274Z"
    }
   },
   "outputs": [
    {
     "data": {
      "text/plain": [
       "torch.Size([20000, 34])"
      ]
     },
     "execution_count": 26,
     "metadata": {},
     "output_type": "execute_result"
    }
   ],
   "source": [
    "N_train = 20000\n",
    "trainData=data[:N_train,:].float()  # Use the first 20000 observations for training and convert this NumPy array into a torch tensor.\n",
    "testData=data[N_train:,:].float()   # Use the remaining 10000 observations for testing and convert this NumPy array into a torch tensor.\n",
    "trainData.shape"
   ]
  },
  {
   "cell_type": "markdown",
   "metadata": {},
   "source": [
    "In a standard training procedure, we use ``DataLoader`` to distribute a mini-batch of data to each iteration. In some applications the dataset is very large, we should not load the entire dataset all at once or the speed of training is very slow. To use ``DataLoader``, we need to build a ``TensorDataset`` first, and then feed the dataset into the data loader."
   ]
  },
  {
   "cell_type": "code",
   "execution_count": 27,
   "metadata": {
    "ExecuteTime": {
     "end_time": "2020-03-21T09:30:25.940176Z",
     "start_time": "2020-03-21T09:30:25.935177Z"
    }
   },
   "outputs": [],
   "source": [
    "trainset = Data.TensorDataset(trainData[:, 0:-1], trainData[:, -1:])\n",
    "# trainData[:, 0:3] gives the inputs, while trainData[:, 3:] provides the output.\n",
    "# To use pytorch for training NNs, it is very important to match the dimensions of the inputs and the output.\n",
    "# The inputs to the NN here is a 2D tensor. \n",
    "# The colon after \"-1\" is very important. It keeps trainData[:,-1:] as a 2D tensor. Otherwise it will be a 1D tensor. \n",
    "testset = Data.TensorDataset(testData[:, 0:-1], testData[:, -1:])\n",
    "trainloader = Data.DataLoader(\n",
    "    trainset, batch_size=200, shuffle=True, num_workers=0)"
   ]
  }
 ],
 "metadata": {
  "hide_input": false,
  "kernelspec": {
   "display_name": "Python 3 (ipykernel)",
   "language": "python",
   "name": "python3"
  },
  "language_info": {
   "codemirror_mode": {
    "name": "ipython",
    "version": 3
   },
   "file_extension": ".py",
   "mimetype": "text/x-python",
   "name": "python",
   "nbconvert_exporter": "python",
   "pygments_lexer": "ipython3",
   "version": "3.9.7"
  },
  "latex_envs": {
   "LaTeX_envs_menu_present": true,
   "autoclose": false,
   "autocomplete": true,
   "bibliofile": "biblio.bib",
   "cite_by": "apalike",
   "current_citInitial": 1,
   "eqLabelWithNumbers": true,
   "eqNumInitial": 1,
   "hotkeys": {
    "equation": "Ctrl-E",
    "itemize": "Ctrl-I"
   },
   "labels_anchors": false,
   "latex_user_defs": false,
   "report_style_numbering": false,
   "user_envs_cfg": false
  },
  "toc": {
   "base_numbering": 1,
   "nav_menu": {},
   "number_sections": true,
   "sideBar": true,
   "skip_h1_title": true,
   "title_cell": "Table of Contents",
   "title_sidebar": "Contents",
   "toc_cell": true,
   "toc_position": {
    "height": "calc(100% - 180px)",
    "left": "10px",
    "top": "150px",
    "width": "182.332px"
   },
   "toc_section_display": true,
   "toc_window_display": false
  },
  "varInspector": {
   "cols": {
    "lenName": 16,
    "lenType": 16,
    "lenVar": 40
   },
   "kernels_config": {
    "python": {
     "delete_cmd_postfix": "",
     "delete_cmd_prefix": "del ",
     "library": "var_list.py",
     "varRefreshCmd": "print(var_dic_list())"
    },
    "r": {
     "delete_cmd_postfix": ") ",
     "delete_cmd_prefix": "rm(",
     "library": "var_list.r",
     "varRefreshCmd": "cat(var_dic_list()) "
    }
   },
   "types_to_exclude": [
    "module",
    "function",
    "builtin_function_or_method",
    "instance",
    "_Feature"
   ],
   "window_display": false
  }
 },
 "nbformat": 4,
 "nbformat_minor": 4
}
