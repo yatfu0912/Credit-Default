{
 "cells": [
  {
   "cell_type": "markdown",
   "source": "",
   "metadata": {
    "cell_id": "ec77e66e16f74ee792f34aa9f1eff78b",
    "tags": [],
    "deepnote_cell_type": "markdown",
    "deepnote_cell_height": 46
   }
  },
  {
   "cell_type": "markdown",
   "source": "FTEC5580 Project 2 Classification Tree \\\nName : Man Yat Fu \\\nSID : 1155109353",
   "metadata": {
    "cell_id": "ff5355b3843b423a9895dba0a0b6b691",
    "tags": [],
    "deepnote_cell_type": "markdown",
    "deepnote_cell_height": 97.1875
   }
  },
  {
   "cell_type": "code",
   "metadata": {
    "cell_id": "3be37ebf7ee648c7a977f78c8874e118",
    "tags": [],
    "deepnote_to_be_reexecuted": false,
    "source_hash": "f3d4658f",
    "execution_start": 1651304214760,
    "execution_millis": 14927,
    "deepnote_cell_type": "code",
    "deepnote_cell_height": 151.078125
   },
   "source": "install.packages(\"C50\")",
   "execution_count": 1,
   "outputs": [
    {
     "name": "stderr",
     "text": "Installing package into ‘/work/.R/library’\n(as ‘lib’ is unspecified)\n\n",
     "output_type": "stream"
    }
   ]
  },
  {
   "cell_type": "code",
   "metadata": {
    "cell_id": "88ddbac13b324d54a77cd5f9ffd714d2",
    "tags": [],
    "deepnote_to_be_reexecuted": false,
    "source_hash": "389dac35",
    "execution_start": 1651304229725,
    "execution_millis": 3514,
    "deepnote_cell_type": "code",
    "deepnote_cell_height": 935
   },
   "source": "library(readr)\nlibrary(caret)\nlibrary(scales)\nlibrary(dplyr)\nlibrary(mboost)\nlibrary(naivebayes)\nlibrary(MASS)\nlibrary(glmnet)\nlibrary(Matrix)\nlibrary(plyr)\nlibrary(gbm)\nlibrary(leaps)\nlibrary(C50)\n",
   "execution_count": 2,
   "outputs": [
    {
     "name": "stderr",
     "text": "Loading required package: ggplot2\n\nLoading required package: lattice\n\n\nAttaching package: ‘scales’\n\n\nThe following object is masked from ‘package:readr’:\n\n    col_factor\n\n\n\nAttaching package: ‘dplyr’\n\n\nThe following objects are masked from ‘package:stats’:\n\n    filter, lag\n\n\nThe following objects are masked from ‘package:base’:\n\n    intersect, setdiff, setequal, union\n\n\nLoading required package: parallel\n\nLoading required package: stabs\n\n\nAttaching package: ‘mboost’\n\n\nThe following object is masked from ‘package:ggplot2’:\n\n    %+%\n\n\nnaivebayes 0.9.7 loaded\n\n\nAttaching package: ‘MASS’\n\n\nThe following object is masked from ‘package:dplyr’:\n\n    select\n\n\nLoading required package: Matrix\n\nLoaded glmnet 4.1-4\n\n\nAttaching package: ‘glmnet’\n\n\nThe following object is masked from ‘package:mboost’:\n\n    Cindex\n\n\n------------------------------------------------------------------------------\n\nYou have loaded plyr after dplyr - this is likely to cause problems.\nIf you need functions from both plyr and dplyr, please load plyr first, then dplyr:\nlibrary(plyr); library(dplyr)\n\n------------------------------------------------------------------------------\n\n\nAttaching package: ‘plyr’\n\n\nThe following objects are masked from ‘package:dplyr’:\n\n    arrange, count, desc, failwith, id, mutate, rename, summarise,\n    summarize\n\n\nLoaded gbm 2.1.8\n\n",
     "output_type": "stream"
    }
   ]
  },
  {
   "cell_type": "code",
   "metadata": {
    "cell_id": "0dc4b4e7ada947a0b6a3853b5c5cf487",
    "tags": [],
    "deepnote_to_be_reexecuted": false,
    "source_hash": "ad208511",
    "execution_start": 1651304233284,
    "execution_millis": 281,
    "deepnote_cell_type": "code",
    "deepnote_cell_height": 405
   },
   "source": "data <- read.table(\"UCI_Credit_Card.csv\",sep=\",\",skip=2,header=FALSE)\nheader <- scan(\"UCI_Credit_Card.csv\",sep=\",\",nlines=2,what=character())\n###change the col names\nnames <- c(\"ID\", \"given.credit\", \"Gender\", \"Education\", \"marital.status\", \"Age\",\n\"Pay_Delay_Sept\", \"Pay_Delay_Aug\", \"Pay_Delay_Jul\",\n\"Pay_Delay_Jun\",\"Pay_Delay_May\", \"Pay_Delay_Apr\",\n\"Bill_Amt_Sept\", \"Bill_Amt_Aug\", \"Bill_Amt_Jul\",\n\"Bill_Amt_Jun\", \"Bill_Amt_May\", \"Bill_Amt_Apr\",\n\"Pay_Amt_Sept\", \"Pay_Amt_Aug\", \"Pay_Amt_Jul\",\n\"Pay_Amt_Jun\", \"Pay_Amt_May\", \"Pay_Amt_Apr\",\n\"Default_payment_next_month\")\nnames(data) <- names\nset.seed(12)\nn = length(data$ID)\nindex <- 1:nrow(data)\ntestindex <- sample(index, trunc(n)/4)\ntest.data <- data[testindex,]\ntrain.data <- data[-testindex,]\n",
   "execution_count": 3,
   "outputs": []
  },
  {
   "cell_type": "code",
   "metadata": {
    "cell_id": "7f4b44c64057417d846747e737c41a62",
    "tags": [],
    "deepnote_to_be_reexecuted": false,
    "source_hash": "e87de51c",
    "execution_start": 1651304233572,
    "execution_millis": 61,
    "deepnote_cell_type": "code",
    "deepnote_cell_height": 780,
    "deepnote_output_heights": [
     611
    ]
   },
   "source": "train.data[3:5] <- lapply(train.data[3:5], as.factor)\ntrain.data[7:12] <- lapply(train.data[7:12], as.factor)\ntrain.data$Default_payment_next_month <- as.factor(train.data$Default_payment_next_month)\nsummary(train.data)\n",
   "execution_count": 4,
   "outputs": [
    {
     "data": {
      "text/plain": "       ID         given.credit     Gender    Education marital.status\n Min.   :    3   Min.   :  10000   1: 8919   0:   11   0:   41       \n 1st Qu.: 7565   1st Qu.:  50000   2:13581   1: 7967   1:10187       \n Median :15096   Median : 140000             2:10494   2:12014       \n Mean   :15065   Mean   : 167249             3: 3678   3:  258       \n 3rd Qu.:22554   3rd Qu.: 240000             4:   85                 \n Max.   :30000   Max.   :1000000             5:  223                 \n                                             6:   42                 \n      Age        Pay_Delay_Sept  Pay_Delay_Aug   Pay_Delay_Jul  \n Min.   :21.00   0      :11085   0      :11833   0      :11856  \n 1st Qu.:28.00   -1     : 4261   -1     : 4513   -1     : 4460  \n Median :34.00   1      : 2752   2      : 2938   -2     : 3043  \n Mean   :35.46   -2     : 2058   -2     : 2824   2      : 2842  \n 3rd Qu.:41.00   2      : 1980   3      :  240   3      :  182  \n Max.   :79.00   3      :  254   4      :   82   4      :   60  \n                 (Other):  110   (Other):   70   (Other):   57  \n Pay_Delay_Jun   Pay_Delay_May   Pay_Delay_Apr   Bill_Amt_Sept    \n 0      :12338   0      :12694   0      :12231   Min.   :-165580  \n -1     : 4293   -1     : 4144   -1     : 4284   1st Qu.:   3608  \n -2     : 3242   -2     : 3401   -2     : 3673   Median :  22434  \n 2      : 2367   2      : 2001   2      : 2077   Mean   :  51169  \n 3      :  135   3      :  137   3      :  142   3rd Qu.:  67436  \n 4      :   50   4      :   65   4      :   36   Max.   : 964511  \n (Other):   75   (Other):   58   (Other):   57                    \n  Bill_Amt_Aug     Bill_Amt_Jul      Bill_Amt_Jun     Bill_Amt_May   \n Min.   :-69777   Min.   :-157264   Min.   :-81334   Min.   :-53007  \n 1st Qu.:  3070   1st Qu.:   2736   1st Qu.:  2380   1st Qu.:  1762  \n Median : 21354   Median :  20168   Median : 19170   Median : 18186  \n Mean   : 49184   Mean   :  46971   Mean   : 43288   Mean   : 40365  \n 3rd Qu.: 64168   3rd Qu.:  60312   3rd Qu.: 54618   3rd Qu.: 50372  \n Max.   :983931   Max.   : 855086   Max.   :891586   Max.   :927171  \n                                                                     \n  Bill_Amt_Apr      Pay_Amt_Sept     Pay_Amt_Aug         Pay_Amt_Jul    \n Min.   :-150953   Min.   :     0   Min.   :      0.0   Min.   :     0  \n 1st Qu.:   1317   1st Qu.:  1000   1st Qu.:    868.8   1st Qu.:   407  \n Median :  17146   Median :  2100   Median :   2011.0   Median :  1842  \n Mean   :  38897   Mean   :  5714   Mean   :   5883.4   Mean   :  5300  \n 3rd Qu.:  49038   3rd Qu.:  5003   3rd Qu.:   5000.0   3rd Qu.:  4545  \n Max.   : 961664   Max.   :873552   Max.   :1227082.0   Max.   :896040  \n                                                                        \n  Pay_Amt_Jun      Pay_Amt_May      Pay_Amt_Apr      \n Min.   :     0   Min.   :     0   Min.   :     0.0  \n 1st Qu.:   294   1st Qu.:   277   1st Qu.:   119.8  \n Median :  1500   Median :  1508   Median :  1500.0  \n Mean   :  4851   Mean   :  4755   Mean   :  5122.5  \n 3rd Qu.:  4000   3rd Qu.:  4050   3rd Qu.:  4000.0  \n Max.   :621000   Max.   :417990   Max.   :527143.0  \n                                                     \n Default_payment_next_month\n 0:17518                   \n 1: 4982                   \n                           \n                           \n                           \n                           \n                           "
     },
     "metadata": {},
     "output_type": "display_data"
    }
   ]
  },
  {
   "cell_type": "code",
   "metadata": {
    "cell_id": "de78df2c617c4e7da5c51bd63ba41e62",
    "tags": [],
    "deepnote_to_be_reexecuted": false,
    "source_hash": "6c731ce3",
    "execution_start": 1651304233638,
    "execution_millis": 19,
    "deepnote_cell_type": "code",
    "deepnote_cell_height": 188.375,
    "deepnote_output_heights": [
     21.1875,
     21.1875
    ]
   },
   "source": "nrow(train.data[train.data$`given.credit` >= 500000,])\nnrow(train.data[train.data$`given.credit` >= 500000,]) / nrow(train.data)",
   "execution_count": 5,
   "outputs": [
    {
     "data": {
      "text/html": "687",
      "text/markdown": "687",
      "text/latex": "687",
      "text/plain": "[1] 687"
     },
     "metadata": {},
     "output_type": "display_data"
    },
    {
     "data": {
      "text/html": "0.0305333333333333",
      "text/markdown": "0.0305333333333333",
      "text/latex": "0.0305333333333333",
      "text/plain": "[1] 0.03053333"
     },
     "metadata": {},
     "output_type": "display_data"
    }
   ]
  },
  {
   "cell_type": "code",
   "metadata": {
    "cell_id": "7320281caec14cd4a74928028210c8ec",
    "tags": [],
    "deepnote_to_be_reexecuted": false,
    "source_hash": "2d75b6f0",
    "execution_start": 1651304233663,
    "execution_millis": 25,
    "deepnote_cell_type": "code",
    "deepnote_cell_height": 136.1875,
    "deepnote_output_heights": [
     21.1875
    ]
   },
   "source": "subset_td <- train.data[train.data$`given.credit` < 500000,]\nnrow(subset_td)  #21813",
   "execution_count": 6,
   "outputs": [
    {
     "data": {
      "text/html": "21813",
      "text/markdown": "21813",
      "text/latex": "21813",
      "text/plain": "[1] 21813"
     },
     "metadata": {},
     "output_type": "display_data"
    }
   ]
  },
  {
   "cell_type": "markdown",
   "source": "<h2> Data Prceossing",
   "metadata": {
    "cell_id": "fd553170cc1443158596be5835dcc0a6",
    "tags": [],
    "deepnote_cell_type": "markdown",
    "deepnote_cell_height": 70
   }
  },
  {
   "cell_type": "code",
   "metadata": {
    "cell_id": "1d6d8a91427a4d18b27dcb3f64bd97a1",
    "tags": [],
    "deepnote_to_be_reexecuted": false,
    "source_hash": "9996d5f9",
    "execution_start": 1651304233736,
    "execution_millis": 5256,
    "deepnote_cell_type": "code",
    "deepnote_cell_height": 657
   },
   "source": "#Remove some incorrect data to avoid confusion, like -2,-1 of delay payment change to 0.\nfor(i in 1:nrow(data)){\nif(data$Pay_Delay_Sept[i] == -2 | data$Pay_Delay_Sept[i] == -1 ){\ndata$Pay_Delay_Sept[i] = 0\n}\nif(data$Pay_Delay_Aug[i] == -1 | data$Pay_Delay_Aug[i] == -2 ){\ndata$Pay_Delay_Aug[i] = 0\n}\nif(data$Pay_Delay_Jul[i] == -1 | data$Pay_Delay_Jul[i] == -2){\ndata$Pay_Delay_Jul[i] = 0\n}\nif(data$Pay_Delay_Jun[i] == -1 | data$Pay_Delay_Jun[i] == -2){\ndata$Pay_Delay_Jun[i] = 0\n}\nif(data$Pay_Delay_May[i] == -1 | data$Pay_Delay_May[i] == -2){\ndata$Pay_Delay_May[i] = 0\n}\nif(data$Pay_Delay_Apr[i] == -1 | data$Pay_Delay_Apr[i] == -2 ){\ndata$Pay_Delay_Apr[i] = 0\n}\n}\ndata$`marital.status`[which(data$`Martial Status` == 0)] <- 3\ndata$Education[which(data$Education == 0 | data$Education == 5 |\ndata$Education == 6)] <- 4\ndata$Default_payment_next_month <- as.factor(data$Default_payment_next_month)\nset.seed(111)\nn = length(data$ID)\nindex <- 1:nrow(data)\ntestindex <- sample(index, trunc(n)/4)\ntest.data <- data[testindex,]\ntrain.data <- data[-testindex,]\ntrain.class <- train.data$Default_payment_next_month\ntest.class <- test.data$Default_payment_next_month",
   "execution_count": 7,
   "outputs": []
  },
  {
   "cell_type": "code",
   "metadata": {
    "cell_id": "205eedb837e74fe79b96fcbd61c51b62",
    "tags": [],
    "deepnote_to_be_reexecuted": false,
    "source_hash": "7e89c117",
    "execution_start": 1651304238998,
    "execution_millis": 492,
    "deepnote_cell_type": "code",
    "deepnote_cell_height": 809.390625,
    "deepnote_output_heights": [
     null,
     611
    ]
   },
   "source": "model1 <- glm(Default_payment_next_month ~ ., data = train.data,\nfamily = \"binomial\")\nsummary(model1)",
   "execution_count": 8,
   "outputs": [
    {
     "name": "stderr",
     "text": "Warning message:\n“glm.fit: fitted probabilities numerically 0 or 1 occurred”\n",
     "output_type": "stream"
    },
    {
     "data": {
      "text/plain": "\nCall:\nglm(formula = Default_payment_next_month ~ ., family = \"binomial\", \n    data = train.data)\n\nDeviance Residuals: \n    Min       1Q   Median       3Q      Max  \n-4.0321  -0.6032  -0.5300  -0.3275   3.5757  \n\nCoefficients:\n                 Estimate Std. Error z value Pr(>|z|)    \n(Intercept)    -1.111e+00  1.474e-01  -7.534 4.92e-14 ***\nID             -1.437e-06  2.093e-06  -0.686 0.492430    \ngiven.credit   -1.485e-06  1.796e-07  -8.268  < 2e-16 ***\nGender         -1.161e-01  3.674e-02  -3.161 0.001574 ** \nEducation      -8.712e-02  2.612e-02  -3.335 0.000852 ***\nmarital.status -1.288e-01  3.813e-02  -3.377 0.000734 ***\nAge             5.370e-03  2.139e-03   2.510 0.012063 *  \nPay_Delay_Sept  8.946e-01  2.919e-02  30.651  < 2e-16 ***\nPay_Delay_Aug   4.007e-02  3.063e-02   1.308 0.190769    \nPay_Delay_Jul   1.161e-01  3.281e-02   3.539 0.000402 ***\nPay_Delay_Jun   1.204e-01  3.659e-02   3.290 0.001000 ** \nPay_Delay_May   7.761e-02  3.961e-02   1.960 0.050034 .  \nPay_Delay_Apr   1.456e-01  3.367e-02   4.325 1.52e-05 ***\nBill_Amt_Sept  -1.752e-06  1.199e-06  -1.461 0.143941    \nBill_Amt_Aug    9.060e-07  1.656e-06   0.547 0.584298    \nBill_Amt_Jul    2.767e-06  1.500e-06   1.845 0.065024 .  \nBill_Amt_Jun   -6.142e-07  1.557e-06  -0.394 0.693336    \nBill_Amt_May    5.536e-07  1.764e-06   0.314 0.753696    \nBill_Amt_Apr   -6.809e-07  1.378e-06  -0.494 0.621323    \nPay_Amt_Sept   -1.270e-05  2.792e-06  -4.550 5.36e-06 ***\nPay_Amt_Aug    -1.704e-05  3.020e-06  -5.644 1.66e-08 ***\nPay_Amt_Jul    -2.036e-06  2.035e-06  -1.001 0.316872    \nPay_Amt_Jun    -2.978e-06  2.079e-06  -1.433 0.151942    \nPay_Amt_May    -3.320e-06  2.177e-06  -1.525 0.127264    \nPay_Amt_Apr    -1.607e-06  1.508e-06  -1.066 0.286570    \n---\nSignif. codes:  0 ‘***’ 0.001 ‘**’ 0.01 ‘*’ 0.05 ‘.’ 0.1 ‘ ’ 1\n\n(Dispersion parameter for binomial family taken to be 1)\n\n    Null deviance: 23804  on 22499  degrees of freedom\nResidual deviance: 19925  on 22475  degrees of freedom\nAIC: 19975\n\nNumber of Fisher Scoring iterations: 6\n"
     },
     "metadata": {},
     "output_type": "display_data"
    }
   ]
  },
  {
   "cell_type": "markdown",
   "source": "<h2>Training Set",
   "metadata": {
    "cell_id": "a1b3808f6cd24b31be9a01bda15e7915",
    "tags": [],
    "deepnote_cell_type": "markdown",
    "deepnote_cell_height": 70
   }
  },
  {
   "cell_type": "code",
   "metadata": {
    "cell_id": "c63aa1f75d0d4ae59921ca2a0a77f540",
    "tags": [],
    "deepnote_to_be_reexecuted": false,
    "source_hash": "dafe542c",
    "execution_start": 1651304239496,
    "execution_millis": 1019,
    "deepnote_cell_type": "code",
    "deepnote_cell_height": 405
   },
   "source": "###for training set\ntrain.data$avg_bill <- (train.data$Bill_Amt_Sept + train.data$Bill_Amt_Aug +\n                        train.data$Bill_Amt_Jul +\n                        train.data$Bill_Amt_Jun + train.data$Bill_Amt_May +\n                        train.data$Bill_Amt_Apr)/ 6\ntrain.data$avg_payment <- (train.data$Pay_Amt_Sept + train.data$Pay_Amt_Aug +\n                            train.data$Pay_Amt_Jul +\n                            train.data$Bill_Amt_Jun + train.data$Bill_Amt_May +\n                           train.data$Bill_Amt_Apr) /6\ntrain.data$numOfMonthsDelayed <- NA\nfor(i in 1:nrow(train.data)){\n    train.data$numOfMonthsDelayed[i] <- train.data$Pay_Delay_Sept[i] +\n    train.data$Pay_Delay_Aug[i]\n    + train.data$Pay_Delay_Jul[i] + train.data$Pay_Delay_Jun[i] +\n    train.data$Pay_Delay_May[i] +train.data$Pay_Amt_Apr[i]\n    }\n\n\n",
   "execution_count": 9,
   "outputs": []
  },
  {
   "cell_type": "markdown",
   "source": "<h2>Testing Set",
   "metadata": {
    "cell_id": "b4bebe681e7641dda64688e5aed4f0bf",
    "tags": [],
    "deepnote_cell_type": "markdown",
    "deepnote_cell_height": 70
   }
  },
  {
   "cell_type": "code",
   "metadata": {
    "cell_id": "c68a75858c9542679a2825caafbc6431",
    "tags": [],
    "deepnote_to_be_reexecuted": false,
    "source_hash": "f9885339",
    "execution_start": 1651304240522,
    "execution_millis": 172,
    "deepnote_cell_type": "code",
    "deepnote_cell_height": 333
   },
   "source": "test.data$avg_bill <- (test.data$Bill_Amt_Sept + test.data$Bill_Amt_Aug +\n                        test.data$Bill_Amt_Jul +\n                        test.data$Bill_Amt_Jun + test.data$Bill_Amt_May +\n                        test.data$Bill_Amt_Apr)/ 6\ntest.data$avg_payment <- (test.data$Pay_Amt_Sept + test.data$Pay_Amt_Aug +\n                            test.data$Pay_Amt_Jul +\n                            test.data$Bill_Amt_Jun + test.data$Bill_Amt_May +\n                            test.data$Bill_Amt_Apr) /6\ntest.data$numOfMonthsDelayed <- NA\nfor(i in 1:nrow(test.data)){\n    test.data$numOfMonthsDelayed[i] <- test.data$Pay_Delay_Sept[i] +\n    test.data$Pay_Delay_Aug[i]\n    + test.data$Pay_Delay_Jul[i] + test.data$Pay_Delay_Jun[i] +\n    test.data$Pay_Delay_May[i] +test.data$Pay_Amt_Apr[i]\n}",
   "execution_count": 10,
   "outputs": []
  },
  {
   "cell_type": "code",
   "metadata": {
    "cell_id": "6b8c55fe013c41b5b8c910282f1a3b31",
    "tags": [],
    "deepnote_to_be_reexecuted": false,
    "source_hash": "ff7d1c23",
    "execution_start": 1651304240700,
    "execution_millis": 10,
    "deepnote_cell_type": "code",
    "deepnote_cell_height": 153
   },
   "source": "myvars <- c( \"given.credit\",\"Age\", \"Gender\", \"Education\",\n\"marital.status\", \"avg_bill\", \"avg_payment\",\n\"numOfMonthsDelayed\")\ntrain.data.2 <- train.data[myvars]\ntest.data.2 <- test.data[myvars]",
   "execution_count": 11,
   "outputs": []
  },
  {
   "cell_type": "code",
   "metadata": {
    "cell_id": "368e14aa5dce417c976054526f310bf3",
    "tags": [],
    "deepnote_to_be_reexecuted": false,
    "source_hash": "ec2c1134",
    "execution_start": 1651304240721,
    "execution_millis": 108,
    "deepnote_cell_type": "code",
    "deepnote_cell_height": 673.65625,
    "deepnote_output_heights": [
     558.65625
    ]
   },
   "source": "model2 <- glm(train.class ~ ., data = train.data.2, family = \"binomial\")\nsummary(model2)",
   "execution_count": 12,
   "outputs": [
    {
     "data": {
      "text/plain": "\nCall:\nglm(formula = train.class ~ ., family = \"binomial\", data = train.data.2)\n\nDeviance Residuals: \n    Min       1Q   Median       3Q      Max  \n-3.7727  -0.6117  -0.5428  -0.4125   2.4421  \n\nCoefficients:\n                     Estimate Std. Error z value Pr(>|z|)    \n(Intercept)        -1.073e+00  1.417e-01  -7.574 3.63e-14 ***\ngiven.credit       -2.033e-06  1.719e-07 -11.826  < 2e-16 ***\nAge                 5.498e-03  2.108e-03   2.608 0.009109 ** \nGender             -1.063e-01  3.614e-02  -2.941 0.003267 ** \nEducation          -9.864e-02  2.567e-02  -3.842 0.000122 ***\nmarital.status     -1.356e-01  3.748e-02  -3.618 0.000296 ***\navg_bill            4.401e-06  1.126e-06   3.907 9.33e-05 ***\navg_payment        -9.131e-06  2.262e-06  -4.037 5.42e-05 ***\nnumOfMonthsDelayed  5.685e-01  1.193e-02  47.639  < 2e-16 ***\n---\nSignif. codes:  0 ‘***’ 0.001 ‘**’ 0.01 ‘*’ 0.05 ‘.’ 0.1 ‘ ’ 1\n\n(Dispersion parameter for binomial family taken to be 1)\n\n    Null deviance: 23804  on 22499  degrees of freedom\nResidual deviance: 20473  on 22491  degrees of freedom\nAIC: 20491\n\nNumber of Fisher Scoring iterations: 4\n"
     },
     "metadata": {},
     "output_type": "display_data"
    }
   ]
  },
  {
   "cell_type": "code",
   "metadata": {
    "cell_id": "0abb246f50f240bcbd05e02dbd48e7bc",
    "tags": [],
    "deepnote_to_be_reexecuted": false,
    "source_hash": "3c0889b5",
    "execution_start": 1651304240836,
    "execution_millis": 111,
    "deepnote_cell_type": "code",
    "deepnote_cell_height": 744,
    "deepnote_output_heights": [
     611
    ]
   },
   "source": "outbackward <- regsubsets(train.class ~., data = train.data.2,\nmethod = \"backward\")\nsummary(outbackward)",
   "execution_count": 13,
   "outputs": [
    {
     "data": {
      "text/plain": "Subset selection object\nCall: regsubsets.formula(train.class ~ ., data = train.data.2, method = \"backward\")\n8 Variables  (and intercept)\n                   Forced in Forced out\ngiven.credit           FALSE      FALSE\nAge                    FALSE      FALSE\nGender                 FALSE      FALSE\nEducation              FALSE      FALSE\nmarital.status         FALSE      FALSE\navg_bill               FALSE      FALSE\navg_payment            FALSE      FALSE\nnumOfMonthsDelayed     FALSE      FALSE\n1 subsets of each size up to 8\nSelection Algorithm: backward\n         given.credit Age Gender Education marital.status avg_bill avg_payment\n1  ( 1 ) \" \"          \" \" \" \"    \" \"       \" \"            \" \"      \" \"        \n2  ( 1 ) \"*\"          \" \" \" \"    \" \"       \" \"            \" \"      \" \"        \n3  ( 1 ) \"*\"          \" \" \" \"    \" \"       \"*\"            \" \"      \" \"        \n4  ( 1 ) \"*\"          \" \" \"*\"    \" \"       \"*\"            \" \"      \" \"        \n5  ( 1 ) \"*\"          \" \" \"*\"    \"*\"       \"*\"            \" \"      \" \"        \n6  ( 1 ) \"*\"          \" \" \"*\"    \"*\"       \"*\"            \" \"      \"*\"        \n7  ( 1 ) \"*\"          \" \" \"*\"    \"*\"       \"*\"            \"*\"      \"*\"        \n8  ( 1 ) \"*\"          \"*\" \"*\"    \"*\"       \"*\"            \"*\"      \"*\"        \n         numOfMonthsDelayed\n1  ( 1 ) \"*\"               \n2  ( 1 ) \"*\"               \n3  ( 1 ) \"*\"               \n4  ( 1 ) \"*\"               \n5  ( 1 ) \"*\"               \n6  ( 1 ) \"*\"               \n7  ( 1 ) \"*\"               \n8  ( 1 ) \"*\"               "
     },
     "metadata": {},
     "output_type": "display_data"
    }
   ]
  },
  {
   "cell_type": "code",
   "metadata": {
    "cell_id": "2c3838d739b047a1b8a56a130d2150bb",
    "tags": [],
    "deepnote_to_be_reexecuted": false,
    "source_hash": "cb2f9665",
    "execution_start": 1651304240946,
    "execution_millis": 0,
    "deepnote_cell_type": "code",
    "deepnote_cell_height": 99
   },
   "source": "accuracy.mat <- matrix(nrow = 18, ncol = 4)\ncolnames(accuracy.mat) <- c(\"Model\", \"Train Accuracy\", \"Test Accuracy\", \"Time (Seconds)\")",
   "execution_count": 14,
   "outputs": []
  },
  {
   "cell_type": "code",
   "metadata": {
    "cell_id": "864296a4babf4620ab9e590c58febfd3",
    "tags": [],
    "deepnote_to_be_reexecuted": false,
    "source_hash": "7d992f75",
    "execution_start": 1651304240946,
    "execution_millis": 726,
    "deepnote_cell_type": "code",
    "deepnote_cell_height": 243
   },
   "source": "library(C50)\nstart.time <- Sys.time()\nC50tree_full <- C5.0(train.class ~. ,data= train.data.2)\nC50tree_full.train.acc <- (16788 + 1685) / (16788 + 758 + 3269 + 1685)\nC50tree_full.test <- predict(C50tree_full, newdata = test.data.2)\nC50tree_full.test.acc <- mean(C50tree_full.test == test.class)\nend.time <- Sys.time()\nt <- end.time - start.time\naccuracy.mat[1,] <- c(\"C50 Full Model\",\nC50tree_full.train.acc, C50tree_full.test.acc,t)",
   "execution_count": 15,
   "outputs": []
  },
  {
   "cell_type": "code",
   "metadata": {
    "cell_id": "64322f7365c44c269db74ca0aa14182a",
    "tags": [],
    "deepnote_to_be_reexecuted": false,
    "source_hash": "7fa7d3f8",
    "execution_start": 1651304241678,
    "execution_millis": 350,
    "deepnote_cell_type": "code",
    "deepnote_cell_height": 261
   },
   "source": "#reduce model\ntart.time <- Sys.time()\nC50tree_reduced <- C5.0(train.class ~ `given.credit` +\n                    `marital.status` + numOfMonthsDelayed,data= train.data.2)\nC50tree_reduced.train.acc <- (16779 + 1672) / (16779 + 767 + 3282 + 1672)\nC50tree_reduced.test <- predict(C50tree_reduced, newdata = test.data.2)\nC50tree_reduced.test.acc <- mean(C50tree_reduced.test == test.class)\nend.time <- Sys.time()\nt <- end.time - start.time\naccuracy.mat[2,] <- c(\"C50 Reduced Model\", C50tree_reduced.train.acc,\n                        C50tree_reduced.test.acc, t)",
   "execution_count": 16,
   "outputs": []
  },
  {
   "cell_type": "code",
   "metadata": {
    "cell_id": "015a1a41d389410abcc7d9df8408cf08",
    "tags": [],
    "deepnote_to_be_reexecuted": false,
    "source_hash": "80edd7e0",
    "execution_start": 1651304242044,
    "execution_millis": 845,
    "deepnote_cell_type": "code",
    "deepnote_cell_height": 243
   },
   "source": "#boosting full model\nstart.time <- Sys.time()\nC50tree_full_boost <- C5.0(train.class~. ,data= train.data.2, trials = 3)\nC50tree_full_boost.train.acc <- (16798 + 1681) / 22500\nC50tree_full_boost.test <- predict(C50tree_full_boost, newdata = test.data.2)\nC50tree_full_boost.test.acc <- mean(C50tree_full_boost.test == test.class)\nend.time <- Sys.time()\nt <- end.time - start.time\naccuracy.mat[3,] <- c(\"C50 Full Model with boosting\",\nC50tree_full_boost.train.acc, C50tree_full_boost.test.acc, t)",
   "execution_count": 17,
   "outputs": []
  },
  {
   "cell_type": "code",
   "metadata": {
    "cell_id": "30a59c7ce198457a8b82a66ab04e1204",
    "tags": [],
    "deepnote_to_be_reexecuted": false,
    "source_hash": "7e24287a",
    "execution_start": 1651304242895,
    "execution_millis": 364,
    "deepnote_cell_type": "code",
    "deepnote_cell_height": 279
   },
   "source": "#boosting reduced model\nstart.time <- Sys.time()\nC50tree_reduced_boost <- C5.0(train.class~ `given.credit` +\n                                `marital.status` + numOfMonthsDelayed ,\n                                data= train.data.2, trials = 3)\nC50tree_reduced_boost.train.acc <- (16779 + 1672) / 22500\nC50tree_reduced_boost.test <- predict(C50tree_reduced_boost, newdata = test.data.2)\nC50tree_reduced_boost.test.acc <- mean(C50tree_reduced_boost.test == test.class)\nend.time <- Sys.time()\nt <- end.time - start.time\naccuracy.mat[4,] <- c(\"C50 reduced Model with boosting\",\n                        C50tree_reduced_boost.train.acc, C50tree_reduced_boost.test.acc, t)",
   "execution_count": 18,
   "outputs": []
  },
  {
   "cell_type": "code",
   "metadata": {
    "cell_id": "7a4e21bd9e2442c0a36e668a314e8e5a",
    "tags": [],
    "deepnote_to_be_reexecuted": false,
    "source_hash": "4c326044",
    "execution_start": 1651304243268,
    "execution_millis": 198,
    "deepnote_cell_type": "code",
    "deepnote_cell_height": 711,
    "deepnote_output_heights": [
     596
    ]
   },
   "source": "accuracy.mat\n",
   "execution_count": 19,
   "outputs": [
    {
     "data": {
      "text/html": "<table class=\"dataframe\">\n<caption>A matrix: 18 × 4 of type chr</caption>\n<thead>\n\t<tr><th scope=col>Model</th><th scope=col>Train Accuracy</th><th scope=col>Test Accuracy</th><th scope=col>Time (Seconds)</th></tr>\n</thead>\n<tbody>\n\t<tr><td>C50 Full Model                 </td><td>0.821022222222222</td><td>0.816908921189492</td><td>0.734351634979248</td></tr>\n\t<tr><td>C50 Reduced Model              </td><td>0.820044444444444</td><td>0.816908921189492</td><td>1.09065914154053 </td></tr>\n\t<tr><td>C50 Full Model with boosting   </td><td>0.821288888888889</td><td>0.816375516735565</td><td>0.835496425628662</td></tr>\n\t<tr><td>C50 reduced Model with boosting</td><td>0.820044444444444</td><td>0.816908921189492</td><td>0.350750207901001</td></tr>\n\t<tr><td>NA                             </td><td>NA               </td><td>NA               </td><td>NA               </td></tr>\n\t<tr><td>NA                             </td><td>NA               </td><td>NA               </td><td>NA               </td></tr>\n\t<tr><td>NA                             </td><td>NA               </td><td>NA               </td><td>NA               </td></tr>\n\t<tr><td>NA                             </td><td>NA               </td><td>NA               </td><td>NA               </td></tr>\n\t<tr><td>NA                             </td><td>NA               </td><td>NA               </td><td>NA               </td></tr>\n\t<tr><td>NA                             </td><td>NA               </td><td>NA               </td><td>NA               </td></tr>\n\t<tr><td>NA                             </td><td>NA               </td><td>NA               </td><td>NA               </td></tr>\n\t<tr><td>NA                             </td><td>NA               </td><td>NA               </td><td>NA               </td></tr>\n\t<tr><td>NA                             </td><td>NA               </td><td>NA               </td><td>NA               </td></tr>\n\t<tr><td>NA                             </td><td>NA               </td><td>NA               </td><td>NA               </td></tr>\n\t<tr><td>NA                             </td><td>NA               </td><td>NA               </td><td>NA               </td></tr>\n\t<tr><td>NA                             </td><td>NA               </td><td>NA               </td><td>NA               </td></tr>\n\t<tr><td>NA                             </td><td>NA               </td><td>NA               </td><td>NA               </td></tr>\n\t<tr><td>NA                             </td><td>NA               </td><td>NA               </td><td>NA               </td></tr>\n</tbody>\n</table>\n",
      "text/markdown": "\nA matrix: 18 × 4 of type chr\n\n| Model | Train Accuracy | Test Accuracy | Time (Seconds) |\n|---|---|---|---|\n| C50 Full Model                  | 0.821022222222222 | 0.816908921189492 | 0.734351634979248 |\n| C50 Reduced Model               | 0.820044444444444 | 0.816908921189492 | 1.09065914154053  |\n| C50 Full Model with boosting    | 0.821288888888889 | 0.816375516735565 | 0.835496425628662 |\n| C50 reduced Model with boosting | 0.820044444444444 | 0.816908921189492 | 0.350750207901001 |\n| NA                              | NA                | NA                | NA                |\n| NA                              | NA                | NA                | NA                |\n| NA                              | NA                | NA                | NA                |\n| NA                              | NA                | NA                | NA                |\n| NA                              | NA                | NA                | NA                |\n| NA                              | NA                | NA                | NA                |\n| NA                              | NA                | NA                | NA                |\n| NA                              | NA                | NA                | NA                |\n| NA                              | NA                | NA                | NA                |\n| NA                              | NA                | NA                | NA                |\n| NA                              | NA                | NA                | NA                |\n| NA                              | NA                | NA                | NA                |\n| NA                              | NA                | NA                | NA                |\n| NA                              | NA                | NA                | NA                |\n\n",
      "text/latex": "A matrix: 18 × 4 of type chr\n\\begin{tabular}{llll}\n Model & Train Accuracy & Test Accuracy & Time (Seconds)\\\\\n\\hline\n\t C50 Full Model                  & 0.821022222222222 & 0.816908921189492 & 0.734351634979248\\\\\n\t C50 Reduced Model               & 0.820044444444444 & 0.816908921189492 & 1.09065914154053 \\\\\n\t C50 Full Model with boosting    & 0.821288888888889 & 0.816375516735565 & 0.835496425628662\\\\\n\t C50 reduced Model with boosting & 0.820044444444444 & 0.816908921189492 & 0.350750207901001\\\\\n\t NA                              & NA                & NA                & NA               \\\\\n\t NA                              & NA                & NA                & NA               \\\\\n\t NA                              & NA                & NA                & NA               \\\\\n\t NA                              & NA                & NA                & NA               \\\\\n\t NA                              & NA                & NA                & NA               \\\\\n\t NA                              & NA                & NA                & NA               \\\\\n\t NA                              & NA                & NA                & NA               \\\\\n\t NA                              & NA                & NA                & NA               \\\\\n\t NA                              & NA                & NA                & NA               \\\\\n\t NA                              & NA                & NA                & NA               \\\\\n\t NA                              & NA                & NA                & NA               \\\\\n\t NA                              & NA                & NA                & NA               \\\\\n\t NA                              & NA                & NA                & NA               \\\\\n\t NA                              & NA                & NA                & NA               \\\\\n\\end{tabular}\n",
      "text/plain": "      Model                           Train Accuracy    Test Accuracy    \n [1,] C50 Full Model                  0.821022222222222 0.816908921189492\n [2,] C50 Reduced Model               0.820044444444444 0.816908921189492\n [3,] C50 Full Model with boosting    0.821288888888889 0.816375516735565\n [4,] C50 reduced Model with boosting 0.820044444444444 0.816908921189492\n [5,] NA                              NA                NA               \n [6,] NA                              NA                NA               \n [7,] NA                              NA                NA               \n [8,] NA                              NA                NA               \n [9,] NA                              NA                NA               \n[10,] NA                              NA                NA               \n[11,] NA                              NA                NA               \n[12,] NA                              NA                NA               \n[13,] NA                              NA                NA               \n[14,] NA                              NA                NA               \n[15,] NA                              NA                NA               \n[16,] NA                              NA                NA               \n[17,] NA                              NA                NA               \n[18,] NA                              NA                NA               \n      Time (Seconds)   \n [1,] 0.734351634979248\n [2,] 1.09065914154053 \n [3,] 0.835496425628662\n [4,] 0.350750207901001\n [5,] NA               \n [6,] NA               \n [7,] NA               \n [8,] NA               \n [9,] NA               \n[10,] NA               \n[11,] NA               \n[12,] NA               \n[13,] NA               \n[14,] NA               \n[15,] NA               \n[16,] NA               \n[17,] NA               \n[18,] NA               "
     },
     "metadata": {},
     "output_type": "display_data"
    }
   ]
  },
  {
   "cell_type": "code",
   "metadata": {
    "cell_id": "abb574d5b6e24d4485a3d6cf12d77f41",
    "tags": [],
    "deepnote_to_be_reexecuted": false,
    "source_hash": "a0be418",
    "execution_start": 1651304680485,
    "execution_millis": 1,
    "owner_user_id": "73804082-9949-4e8f-858c-f39e45c12cad",
    "deepnote_cell_type": "code",
    "deepnote_cell_height": 726,
    "deepnote_output_heights": [
     611
    ]
   },
   "source": "summary(C50tree_full)\n",
   "execution_count": 20,
   "outputs": [
    {
     "data": {
      "text/plain": "\nCall:\nC5.0.formula(formula = train.class ~ ., data = train.data.2)\n\n\nC5.0 [Release 2.07 GPL Edition]  \tSat Apr 30 07:37:21 2022\n-------------------------------\n\nClass specified by attribute `outcome'\n\nRead 22500 cases (9 attributes) from undefined.data\n\nDecision tree:\n\nnumOfMonthsDelayed <= 1:\n:...avg_bill > 1155.333: 0 (15743/1944)\n:   avg_bill <= 1155.333:\n:   :...Age <= 55: 0 (2586/648)\n:       Age > 55:\n:       :...avg_bill <= 30.33333: 1 (34/8)\n:           avg_bill > 30.33333: 0 (68/18)\nnumOfMonthsDelayed > 1:\n:...Education > 3: 0 (27/5)\n    Education <= 3:\n    :...numOfMonthsDelayed > 3: 1 (1730/499)\n        numOfMonthsDelayed <= 3:\n        :...numOfMonthsDelayed > 2: 0 (1279/544)\n            numOfMonthsDelayed <= 2:\n            :...avg_bill <= 10316.67: 0 (383/145)\n                avg_bill > 10316.67: 1 (650/224)\n\n\nEvaluation on training data (22500 cases):\n\n\t    Decision Tree   \n\t  ----------------  \n\t  Size      Errors  \n\n\t     9 4035(17.9%)   <<\n\n\n\t   (a)   (b)    <-classified as\n\t  ----  ----\n\t 16782   731    (a): class 0\n\t  3304  1683    (b): class 1\n\n\n\tAttribute usage:\n\n\t100.00%\tnumOfMonthsDelayed\n\t 86.51%\tavg_bill\n\t 18.08%\tEducation\n\t 11.95%\tAge\n\n\nTime: 0.1 secs\n"
     },
     "metadata": {},
     "output_type": "display_data"
    }
   ]
  },
  {
   "cell_type": "code",
   "metadata": {
    "cell_id": "408fedde4c844891ac9ece44e513483c",
    "tags": [],
    "deepnote_to_be_reexecuted": false,
    "source_hash": "bce8ffed",
    "execution_start": 1651304717060,
    "execution_millis": 914,
    "deepnote_cell_type": "code",
    "deepnote_cell_height": 726,
    "deepnote_output_heights": [
     611
    ]
   },
   "source": "C50tree_full.train.acc <- (16788 + 1685) / (16788 + 758 + 3269 + 1685)\nplot(C50tree_full)",
   "execution_count": 21,
   "outputs": [
    {
     "data": {
      "text/plain": "plot without title",
      "image/png": "[encoded data removed]"
     },
     "metadata": {
      "image/png": {
       "width": 840,
       "height": 840
      }
     },
     "output_type": "display_data"
    }
   ]
  },
  {
   "cell_type": "markdown",
   "source": "<a style='text-decoration:none;line-height:16px;display:flex;color:#5B5B62;padding:10px;justify-content:end;' href='https://deepnote.com?utm_source=created-in-deepnote-cell&projectId=d5b7d61b-de48-4673-ae85-198a21ec9e3f' target=\"_blank\">\n<img alt='Created in deepnote.com' style='display:inline;max-height:16px;margin:0px;margin-right:7.5px;' src='data:image/svg+xml;base64,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' > </img>\nCreated in <span style='font-weight:600;margin-left:4px;'>Deepnote</span></a>",
   "metadata": {
    "tags": [],
    "created_in_deepnote_cell": true,
    "deepnote_cell_type": "markdown"
   }
  }
 ],
 "nbformat": 4,
 "nbformat_minor": 2,
 "metadata": {
  "orig_nbformat": 2,
  "deepnote": {},
  "deepnote_notebook_id": "0734e7cc-7ab3-43bb-bc4d-e5e5faaa0617",
  "deepnote_execution_queue": []
 }
}